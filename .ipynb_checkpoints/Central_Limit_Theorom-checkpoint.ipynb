{
 "cells": [
  {
   "cell_type": "markdown",
   "metadata": {},
   "source": [
    "## Although a population may not be *normally* distributed, its sample distribution will most likely be normally distributed due to the **Central Limit Theorem**"
   ]
  },
  {
   "cell_type": "markdown",
   "metadata": {},
   "source": [
    "### Sample Distribution: Taking a large number of samples and recording their means. Typically this will be normally distributed as this script will show"
   ]
  },
  {
   "cell_type": "code",
   "execution_count": 35,
   "metadata": {},
   "outputs": [],
   "source": [
    "import random\n",
    "import pandas as pd\n",
    "import numpy as np\n",
    "import matplotlib.pyplot\n",
    "from NormalPopulation import Population"
   ]
  },
  {
   "cell_type": "code",
   "execution_count": 42,
   "metadata": {},
   "outputs": [
    {
     "data": {
      "image/png": "[encoded data removed]",
      "text/plain": [
       "<Figure size 432x288 with 1 Axes>"
      ]
     },
     "metadata": {
      "needs_background": "light"
     },
     "output_type": "display_data"
    },
    {
     "name": "stdout",
     "output_type": "stream",
     "text": [
      "Population n = 10000\n",
      "Population Mean = 50.0205\n",
      "Population Variance = 852.0850797500001\n",
      "Population Standard Deviation = 29.190496394374662\n"
     ]
    }
   ],
   "source": [
    "# Create population, note that the population will NOT resemble a normal distribution. \n",
    "p = Population(0,100,10000)\n",
    "p.plot_population()\n",
    "p.get_statistics()"
   ]
  },
  {
   "cell_type": "code",
   "execution_count": 43,
   "metadata": {},
   "outputs": [],
   "source": [
    "# Create a sampling dsitribution with 20,000 samples at a default sample size of 10\n",
    "sample_size = 20\n",
    "samp_dist = p.get_sampling_distribution(2000, sample_size)"
   ]
  },
  {
   "cell_type": "code",
   "execution_count": 44,
   "metadata": {},
   "outputs": [
    {
     "data": {
      "image/png": "[encoded data removed]",
      "text/plain": [
       "<Figure size 432x288 with 1 Axes>"
      ]
     },
     "metadata": {
      "needs_background": "light"
     },
     "output_type": "display_data"
    }
   ],
   "source": [
    "p.plot_population(samp_dist)"
   ]
  },
  {
   "cell_type": "markdown",
   "metadata": {},
   "source": [
    "#### Observation: The Sampling Distribution Resembles a normal distribution."
   ]
  },
  {
   "cell_type": "markdown",
   "metadata": {},
   "source": [
    "---\n",
    "## Can we use the mean of the Sample Distribution to approximate population mean?"
   ]
  },
  {
   "cell_type": "code",
   "execution_count": 45,
   "metadata": {},
   "outputs": [
    {
     "name": "stdout",
     "output_type": "stream",
     "text": [
      "Population Mean: 50.0205\n",
      "Sample Distribution Mean: 50.035925000000006\n"
     ]
    }
   ],
   "source": [
    "print(f\"Population Mean: {p.pop_mean}\")\n",
    "print(f\"Sample Distribution Mean: {np.mean(samp_dist)}\")"
   ]
  },
  {
   "cell_type": "markdown",
   "metadata": {},
   "source": [
    "### **Yes**, it appears that the mean of the sampling distribution is a great way to approximate the population mean"
   ]
  },
  {
   "cell_type": "markdown",
   "metadata": {},
   "source": [
    "---"
   ]
  },
  {
   "cell_type": "markdown",
   "metadata": {},
   "source": [
    "## Can we use the *Standard Deviation* of the Sampling Distribution to approximate the population standard deviation?"
   ]
  },
  {
   "cell_type": "code",
   "execution_count": 46,
   "metadata": {},
   "outputs": [
    {
     "name": "stdout",
     "output_type": "stream",
     "text": [
      "Population Standard Deviation: 29.190496394374662\n",
      "Sampling Distribution Dtandrd Deviation: 6.533781496528255\n"
     ]
    }
   ],
   "source": [
    "print(f\"Population Standard Deviation: {p.pop_stdev}\")\n",
    "print(f\"Sampling Distribution Dtandrd Deviation: {np.std(samp_dist)}\")"
   ]
  },
  {
   "cell_type": "markdown",
   "metadata": {},
   "source": [
    "### **No**, it appears that the standard deviation of the sampling distribution(standard error) does not give us an accurate approximation for the population standard deviation. Now lets see what multiplying the Standard Error by sqrt(n) gets us\n",
    "![Standard Error](standard_error.gif)"
   ]
  },
  {
   "cell_type": "code",
   "execution_count": 47,
   "metadata": {},
   "outputs": [
    {
     "name": "stdout",
     "output_type": "stream",
     "text": [
      "Population Mean: 29.190496394374662\n",
      "Sample Distribution Mean: 29.219959152734972\n"
     ]
    }
   ],
   "source": [
    "print(f\"Population Mean: {p.pop_stdev}\")\n",
    "print(f\"Sample Distribution Mean: {np.std(samp_dist)*np.sqrt(sample_size)}\")"
   ]
  },
  {
   "cell_type": "markdown",
   "metadata": {},
   "source": [
    "#### Observation: By multiplying standard error by the square root of teh sample size, you can get a good approximation for population standard deviation."
   ]
  },
  {
   "cell_type": "code",
   "execution_count": 48,
   "metadata": {},
   "outputs": [
    {
     "name": "stdout",
     "output_type": "stream",
     "text": [
      "Population Standard Deviation: 852.0850797500001\n",
      "Sampling Distribution Dtandrd Deviation: 42.69030064437501\n"
     ]
    }
   ],
   "source": [
    "print(f\"Population Standard Deviation: {p.pop_var}\")\n",
    "print(f\"Sampling Distribution Dtandrd Deviation: {np.var(samp_dist)}\")"
   ]
  },
  {
   "cell_type": "code",
   "execution_count": 49,
   "metadata": {},
   "outputs": [
    {
     "name": "stdout",
     "output_type": "stream",
     "text": [
      "Population Mean: 852.0850797500001\n",
      "Sample Distribution Mean: 853.8060128875002\n"
     ]
    }
   ],
   "source": [
    "print(f\"Population Mean: {p.pop_var}\")\n",
    "print(f\"Sample Distribution Mean: {np.var(samp_dist)*sample_size}\")"
   ]
  },
  {
   "cell_type": "code",
   "execution_count": 51,
   "metadata": {},
   "outputs": [
    {
     "data": {
      "text/plain": [
       "-1.6310193666431234"
      ]
     },
     "execution_count": 51,
     "metadata": {},
     "output_type": "execute_result"
    }
   ],
   "source": [
    "var_diff_list_biased = []\n",
    "for x in range(100):\n",
    "    p = Population(0,100,10000)\n",
    "    samp_dist = p.get_sampling_distribution(2000, 20)\n",
    "    var_diff_list.append((p.pop_var-(np.var(samp_dist)*20)))\n",
    "\n",
    "var_diff_list_unbiased = []\n",
    "for x in range(100):\n",
    "    p = Population(0,100,10000)\n",
    "    samp_dist = p.get_sampling_distribution(2000, 20)\n",
    "    var_diff_list.append((p.pop_var-(np.var(samp_dist, ddof=1)*20)))"
   ]
  },
  {
   "cell_type": "code",
   "execution_count": null,
   "metadata": {},
   "outputs": [],
   "source": []
  }
 ],
 "metadata": {
  "kernelspec": {
   "display_name": "Python 3",
   "language": "python",
   "name": "python3"
  },
  "language_info": {
   "codemirror_mode": {
    "name": "ipython",
    "version": 3
   },
   "file_extension": ".py",
   "mimetype": "text/x-python",
   "name": "python",
   "nbconvert_exporter": "python",
   "pygments_lexer": "ipython3",
   "version": "3.7.9"
  }
 },
 "nbformat": 4,
 "nbformat_minor": 4
}
