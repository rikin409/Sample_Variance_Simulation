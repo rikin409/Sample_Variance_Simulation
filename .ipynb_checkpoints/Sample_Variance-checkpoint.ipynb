{
 "cells": [
  {
   "cell_type": "markdown",
   "metadata": {},
   "source": [
    "# Why do you divide a sample variance by (n-1)?\n",
    "---\n",
    "### If you are familiar with basic statistics, you may recall that in order to solve for population variance you must sum up all the squared differences between each data point and the mean, then divide it by number of observations. For some reason when finding a sample variance to apporximate a population variance, you must divide by (n-1). In this program we take a look as to why this is."
   ]
  },
  {
   "cell_type": "code",
   "execution_count": 116,
   "metadata": {},
   "outputs": [],
   "source": [
    "import random\n",
    "import pandas as pd\n",
    "import numpy as np\n",
    "import matplotlib\n",
    "from tabulate import tabulate\n",
    "# %matplotlib inline"
   ]
  },
  {
   "cell_type": "code",
   "execution_count": 117,
   "metadata": {},
   "outputs": [],
   "source": [
    "# pass in a list and a number for how many samples you want to take\n",
    "def make_normal_population(mean, stdev, n):\n",
    "    #make population\n",
    "    s = np.random.normal(mean,stdev,n)\n",
    "    \n",
    "    #plot the population distribution on a histogram\n",
    "    fig = matplotlib.pyplot.figure()\n",
    "    matplotlib.pyplot.hist(s, bins=50)\n",
    "    fig.suptitle('Population', fontsize=15)\n",
    "    matplotlib.pyplot.xlabel(\"Number\")\n",
    "    matplotlib.pyplot.ylabel(\"Frequency\")\n",
    "    \n",
    "    #return an array with the population\n",
    "    return s"
   ]
  },
  {
   "cell_type": "code",
   "execution_count": 118,
   "metadata": {},
   "outputs": [
    {
     "data": {
      "image/png": "[encoded data removed]",
      "text/plain": [
       "<Figure size 432x288 with 1 Axes>"
      ]
     },
     "metadata": {
      "needs_background": "light"
     },
     "output_type": "display_data"
    }
   ],
   "source": [
    "n = 1000\n",
    "mean = 50\n",
    "stdev = 8\n",
    "population = make_normal_population(mean,stdev,n)"
   ]
  },
  {
   "cell_type": "code",
   "execution_count": 119,
   "metadata": {},
   "outputs": [
    {
     "name": "stdout",
     "output_type": "stream",
     "text": [
      "Population n = 1000\n",
      "Population Mean = 50.099370491248145\n",
      "Population Variance = 64.32404358195645\n",
      "Population Standard Deviation = 8.020227152765466\n"
     ]
    }
   ],
   "source": [
    "population_variance = np.var(population)\n",
    "population_std = np.std(population)\n",
    "population_mean = np.mean(population)\n",
    "print(f\"Population n = {n}\")\n",
    "print(f\"Population Mean = {population_mean}\")\n",
    "print(f\"Population Variance = {population_variance}\")\n",
    "print(f\"Population Standard Deviation = {population_std}\")"
   ]
  },
  {
   "cell_type": "code",
   "execution_count": 120,
   "metadata": {},
   "outputs": [],
   "source": [
    "\n",
    "def get_sample_variances(n):\n",
    "    biased_sample_var_list = []\n",
    "    sample_var_list = []\n",
    "    sample_mean_list = []\n",
    "    var_list = pd.DataFrame()\n",
    "\n",
    "    #take 500 samples from the popuation. Each sample size is 20\n",
    "    #make a DataFrame with all of the sample Variances and Means\n",
    "    for x in range(n):\n",
    "        sample = random.sample(population.tolist(),20)\n",
    "        sample_mean_list.append(np.mean(sample))\n",
    "        biased_sample_var_list.append(np.var(sample))\n",
    "        sample_var_list.append(np.var(sample, ddof=1))\n",
    "\n",
    "\n",
    "    var_list[\"Sample Mean\"] = sample_mean_list\n",
    "    var_list[\"Biased Sample Variances\"] = biased_sample_var_list\n",
    "    var_list[\"Sample Variances\"] = sample_var_list\n",
    "\n",
    "\n",
    "#     fig = matplotlib.pyplot.figure(figsize = (15,10))\n",
    "#     matplotlib.pyplot.scatter(y = var_list[\"Biased Sample Variances\"], x = var_list[\"Sample Mean\"])\n",
    "#     matplotlib.pyplot.scatter(y = var_list[\"Sample Variances\"], x = var_list[\"Sample Mean\"], color=\"red\")\n",
    "#     matplotlib.pyplot.axhline(y = population_variance, color=\"green\", label =\"Population\")\n",
    "#     matplotlib.pyplot.axhline(y = var_list[\"Biased Sample Variances\"].mean(), label =\"Biased Sample\")\n",
    "#     matplotlib.pyplot.axhline(y = var_list[\"Sample Variances\"].mean(), label =\"Sample\", color=\"red\")\n",
    "#     matplotlib.pyplot.axvline(x = population_mean, color=\"green\")\n",
    "#     matplotlib.pyplot.xlim(20,80)\n",
    "#     matplotlib.pyplot.ylim(0,150)\n",
    "#     fig.suptitle(\"Biased Sample Variances/Means vs. Population Variance/Mean\")\n",
    "#     matplotlib.pyplot.legend()\n",
    "\n",
    "    return var_list.iloc[:,1:3]\n",
    "\n"
   ]
  },
  {
   "cell_type": "code",
   "execution_count": null,
   "metadata": {},
   "outputs": [],
   "source": []
  },
  {
   "cell_type": "code",
   "execution_count": 157,
   "metadata": {},
   "outputs": [
    {
     "name": "stdout",
     "output_type": "stream",
     "text": [
      "None\n"
     ]
    },
    {
     "data": {
      "image/png": "[encoded data removed]",
      "text/plain": [
       "<Figure size 432x288 with 1 Axes>"
      ]
     },
     "metadata": {
      "needs_background": "light"
     },
     "output_type": "display_data"
    }
   ],
   "source": [
    "ratios_df = pd.DataFrame(columns = [\"Sample Size\", \"Biased\", \"Unbiased\"])\n",
    "from tkinter import *\n",
    "from tkinter import messagebox\n",
    "import tkinter as tk\n",
    "\n",
    "tkWindow = Tk()  \n",
    "tkWindow.geometry('400x150')  \n",
    "tkWindow.title('PythonExamples.org - Tkinter Example')\n",
    "\n",
    "\n",
    "def add50():  \n",
    "    temp = get_sample_variances(50).mean()\n",
    "    ratios_df.loc[len(ratios_df.index)] = [50, temp[\"Biased Sample Variances\"], temp[\"Sample Variances\"]]   \n",
    "def add500():  \n",
    "    temp = get_sample_variances(500).mean()\n",
    "    ratios_df.loc[len(ratios_df.index)] = [500, temp[\"Biased Sample Variances\"], temp[\"Sample Variances\"]] \n",
    "def add1000():  \n",
    "    temp = get_sample_variances(1000).mean()\n",
    "    ratios_df.loc[len(ratios_df.index)] = [1000, temp[\"Biased Sample Variances\"], temp[\"Sample Variances\"]]\n",
    "\n",
    "button50 = Button(tkWindow, text = '50', command = add50) \n",
    "button500 = Button(tkWindow, text = '500', command = add500)  \n",
    "button1000 = Button(tkWindow, text = '1000', command = add1000) \n",
    "\n",
    "\n",
    "\n",
    "button50.pack()   \n",
    "button500.pack() \n",
    "button1000.pack()\n",
    "x = tk.Entry().pack()\n",
    "\n",
    "tkWindow.mainloop()\n",
    "\n",
    "\n",
    "matplotlib.pyplot.scatter(x=ratios_df[\"Sample Size\"], y=ratios_df[\"Biased\"])\n",
    "matplotlib.pyplot.xlim(0,1500)\n",
    "matplotlib.pyplot.ylim(40,100)\n",
    "print(x)"
   ]
  },
  {
   "cell_type": "code",
   "execution_count": 145,
   "metadata": {},
   "outputs": [],
   "source": [
    "\n",
    "# matplotlib.pyplot.show()"
   ]
  },
  {
   "cell_type": "code",
   "execution_count": 165,
   "metadata": {},
   "outputs": [],
   "source": [
    "import tkinter as tk\n",
    "\n",
    "root= tk.Tk()\n",
    "\n",
    "canvas1 = tk.Canvas(root, width = 400, height = 300)\n",
    "canvas1.pack()\n",
    "\n",
    "entry1 = tk.Entry(root) \n",
    "canvas1.create_window(200, 140, window=entry1)\n",
    "\n",
    "def getN ():  \n",
    "    n = entry1.get()\n",
    "    label1 = tk.Label(root, text=n)\n",
    "    canvas1.create_window(200, 230, window=label1)\n",
    "    \n",
    "button1 = tk.Button(text='Get the Square Root', command=getSquareRoot)\n",
    "canvas1.create_window(200, 180, window=button1)\n",
    "\n",
    "root.mainloop()\n"
   ]
  },
  {
   "cell_type": "code",
   "execution_count": null,
   "metadata": {},
   "outputs": [],
   "source": []
  }
 ],
 "metadata": {
  "kernelspec": {
   "display_name": "Python 3",
   "language": "python",
   "name": "python3"
  },
  "language_info": {
   "codemirror_mode": {
    "name": "ipython",
    "version": 3
   },
   "file_extension": ".py",
   "mimetype": "text/x-python",
   "name": "python",
   "nbconvert_exporter": "python",
   "pygments_lexer": "ipython3",
   "version": "3.7.9"
  }
 },
 "nbformat": 4,
 "nbformat_minor": 4
}
