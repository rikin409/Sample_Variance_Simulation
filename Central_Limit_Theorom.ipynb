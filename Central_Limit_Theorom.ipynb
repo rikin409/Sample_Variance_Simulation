{
 "cells": [
  {
   "cell_type": "markdown",
   "metadata": {},
   "source": [
    "# Central Limit Theorem\n",
    "## Although a population may not be *normally* distributed, its sample distribution will most likely be normally distributed due to the **Central Limit Theorem**"
   ]
  },
  {
   "cell_type": "markdown",
   "metadata": {},
   "source": [
    "### Sample Distribution: Taking a large number of samples and recording their means. Typically this will be normally distributed as this script will show"
   ]
  },
  {
   "cell_type": "code",
   "execution_count": 101,
   "metadata": {},
   "outputs": [],
   "source": [
    "import random\n",
    "import pandas as pd\n",
    "import numpy as np\n",
    "import matplotlib.pyplot\n",
    "from NormalPopulation import Population"
   ]
  },
  {
   "cell_type": "code",
   "execution_count": 102,
   "metadata": {},
   "outputs": [
    {
     "data": {
      "image/png": "[encoded data removed]",
      "text/plain": [
       "<Figure size 432x288 with 1 Axes>"
      ]
     },
     "metadata": {
      "needs_background": "light"
     },
     "output_type": "display_data"
    },
    {
     "name": "stdout",
     "output_type": "stream",
     "text": [
      "Population n = 100000\n",
      "Population Mean = 49.89405\n",
      "Population Variance = 848.5840045975001\n",
      "Population Standard Deviation = 29.13046523139478\n"
     ]
    }
   ],
   "source": [
    "# Create population, note that the population will NOT resemble a normal distribution. \n",
    "p = Population(0,100,100000)\n",
    "p.plot_population()\n",
    "p.get_statistics()"
   ]
  },
  {
   "cell_type": "code",
   "execution_count": 103,
   "metadata": {},
   "outputs": [],
   "source": [
    "# Create a sampling dsitribution with 20,000 samples at a default sample size of 10\n",
    "sample_size = 20\n",
    "samp_dist = p.get_sampling_distribution(2000, sample_size)"
   ]
  },
  {
   "cell_type": "code",
   "execution_count": 104,
   "metadata": {},
   "outputs": [
    {
     "data": {
      "image/png": "[encoded data removed]",
      "text/plain": [
       "<Figure size 432x288 with 1 Axes>"
      ]
     },
     "metadata": {
      "needs_background": "light"
     },
     "output_type": "display_data"
    }
   ],
   "source": [
    "p.plot_population(samp_dist)"
   ]
  },
  {
   "cell_type": "markdown",
   "metadata": {},
   "source": [
    "#### Observation: The Sampling Distribution Resembles a normal distribution."
   ]
  },
  {
   "cell_type": "markdown",
   "metadata": {},
   "source": [
    "---\n",
    "## Can we use the mean of the Sample Distribution to approximate population mean?"
   ]
  },
  {
   "cell_type": "code",
   "execution_count": 105,
   "metadata": {},
   "outputs": [
    {
     "name": "stdout",
     "output_type": "stream",
     "text": [
      "Population Mean: 49.89405\n",
      "Sample Distribution Mean: 50.17415\n"
     ]
    }
   ],
   "source": [
    "print(f\"Population Mean: {p.pop_mean}\")\n",
    "print(f\"Sample Distribution Mean: {np.mean(samp_dist)}\")"
   ]
  },
  {
   "cell_type": "markdown",
   "metadata": {},
   "source": [
    "### **Yes**, it appears that the mean of the sampling distribution is a great way to approximate the population mean"
   ]
  },
  {
   "cell_type": "markdown",
   "metadata": {},
   "source": [
    "---"
   ]
  },
  {
   "cell_type": "markdown",
   "metadata": {},
   "source": [
    "# Standard Error\n",
    "## Can we use the *Standard Deviation of the Sampling Distribution* to approximate the population standard deviation?"
   ]
  },
  {
   "cell_type": "code",
   "execution_count": 106,
   "metadata": {},
   "outputs": [
    {
     "name": "stdout",
     "output_type": "stream",
     "text": [
      "Population Standard Deviation: 29.13046523139478\n",
      "Sampling Distribution Standard Deviation: 6.505402891251241\n"
     ]
    }
   ],
   "source": [
    "print(f\"Population Standard Deviation: {p.pop_stdev}\")\n",
    "print(f\"Sampling Distribution Standard Deviation: {np.std(samp_dist)}\")"
   ]
  },
  {
   "cell_type": "markdown",
   "metadata": {},
   "source": [
    "### **No**, it appears that the standard deviation of the sampling distribution(standard error) does not give us an accurate approximation for the population standard deviation. Now lets see what multiplying the Standard Error by sqrt(n) gets us\n",
    "![Standard Error](standard_error.gif)"
   ]
  },
  {
   "cell_type": "code",
   "execution_count": 107,
   "metadata": {},
   "outputs": [
    {
     "name": "stdout",
     "output_type": "stream",
     "text": [
      "Population Standard Deviation: 29.13046523139478\n",
      "Sample Distribution Mean: 29.093046171722893\n"
     ]
    }
   ],
   "source": [
    "print(f\"Population Standard Deviation: {p.pop_stdev}\")\n",
    "print(f\"Sample Distribution Mean: {np.std(samp_dist)*np.sqrt(sample_size)}\")"
   ]
  },
  {
   "cell_type": "markdown",
   "metadata": {},
   "source": [
    "#### Observation: By multiplying standard error by the square root of the sample size, you can get a good approximation for population standard deviation, and vice versa"
   ]
  },
  {
   "cell_type": "markdown",
   "metadata": {},
   "source": [
    "---"
   ]
  },
  {
   "cell_type": "code",
   "execution_count": null,
   "metadata": {},
   "outputs": [],
   "source": []
  },
  {
   "cell_type": "code",
   "execution_count": 97,
   "metadata": {},
   "outputs": [],
   "source": [
    "# %%time\n",
    "\n",
    "# j = ((100000-1)/(100000-10))\n",
    "\n",
    "# var_diff_list_biased = []\n",
    "# for x in range(10):\n",
    "#     samp_dist = p.get_sampling_distribution(2000, 10)\n",
    "#     var_diff_list_biased.append((p.pop_var-(np.var(samp_dist)*10*j)))\n",
    "\n",
    "# print(np.mean(var_diff_list_biased))\n",
    "# j\n"
   ]
  },
  {
   "cell_type": "code",
   "execution_count": null,
   "metadata": {},
   "outputs": [],
   "source": []
  }
 ],
 "metadata": {
  "kernelspec": {
   "display_name": "Python 3",
   "language": "python",
   "name": "python3"
  },
  "language_info": {
   "codemirror_mode": {
    "name": "ipython",
    "version": 3
   },
   "file_extension": ".py",
   "mimetype": "text/x-python",
   "name": "python",
   "nbconvert_exporter": "python",
   "pygments_lexer": "ipython3",
   "version": "3.7.9"
  }
 },
 "nbformat": 4,
 "nbformat_minor": 4
}
